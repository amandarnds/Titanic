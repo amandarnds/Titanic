{
 "cells": [
  {
   "cell_type": "markdown",
   "id": "5d9783a0",
   "metadata": {},
   "source": [
    "# TITANIC PREDICTION"
   ]
  },
  {
   "cell_type": "code",
   "execution_count": 1,
   "id": "30e4b57e",
   "metadata": {},
   "outputs": [],
   "source": [
    "#Data Analysis \n",
    "import pandas as pd\n",
    "import numpy as np\n",
    "import scipy.stats\n",
    "from scipy.stats import chi2_contingency\n",
    "\n",
    "#Visualization \n",
    "import matplotlib.pyplot as plt \n",
    "import seaborn as sns"
   ]
  },
  {
   "cell_type": "markdown",
   "id": "6bed86c1",
   "metadata": {},
   "source": [
    "# **1. Data Acquisition**"
   ]
  },
  {
   "cell_type": "markdown",
   "id": "f06265a3",
   "metadata": {},
   "source": [
    "We start by acquiring the datasets individually and also combine them:"
   ]
  },
  {
   "cell_type": "code",
   "execution_count": 2,
   "id": "acc7253a",
   "metadata": {},
   "outputs": [],
   "source": [
    "train = pd.read_csv('dataset/train.csv')\n",
    "test = pd.read_csv('dataset/test.csv')\n",
    "ds=[train,test]"
   ]
  },
  {
   "cell_type": "markdown",
   "id": "c459da5a",
   "metadata": {},
   "source": [
    "# **2. Data Analysis**"
   ]
  },
  {
   "cell_type": "markdown",
   "id": "4c544004",
   "metadata": {},
   "source": [
    "- What are the columns available?"
   ]
  },
  {
   "cell_type": "code",
   "execution_count": 3,
   "id": "be8676ec",
   "metadata": {},
   "outputs": [
    {
     "data": {
      "text/plain": [
       "Index(['PassengerId', 'Survived', 'Pclass', 'Name', 'Sex', 'Age', 'SibSp',\n",
       "       'Parch', 'Ticket', 'Fare', 'Cabin', 'Embarked'],\n",
       "      dtype='object')"
      ]
     },
     "execution_count": 3,
     "metadata": {},
     "output_type": "execute_result"
    }
   ],
   "source": [
    "train.columns"
   ]
  },
  {
   "cell_type": "markdown",
   "id": "5fbecaea",
   "metadata": {},
   "source": [
    "- View the data"
   ]
  },
  {
   "cell_type": "code",
   "execution_count": 4,
   "id": "6432c0e7",
   "metadata": {},
   "outputs": [
    {
     "data": {
      "text/html": [
       "<div>\n",
       "<style scoped>\n",
       "    .dataframe tbody tr th:only-of-type {\n",
       "        vertical-align: middle;\n",
       "    }\n",
       "\n",
       "    .dataframe tbody tr th {\n",
       "        vertical-align: top;\n",
       "    }\n",
       "\n",
       "    .dataframe thead th {\n",
       "        text-align: right;\n",
       "    }\n",
       "</style>\n",
       "<table border=\"1\" class=\"dataframe\">\n",
       "  <thead>\n",
       "    <tr style=\"text-align: right;\">\n",
       "      <th></th>\n",
       "      <th>PassengerId</th>\n",
       "      <th>Survived</th>\n",
       "      <th>Pclass</th>\n",
       "      <th>Name</th>\n",
       "      <th>Sex</th>\n",
       "      <th>Age</th>\n",
       "      <th>SibSp</th>\n",
       "      <th>Parch</th>\n",
       "      <th>Ticket</th>\n",
       "      <th>Fare</th>\n",
       "      <th>Cabin</th>\n",
       "      <th>Embarked</th>\n",
       "    </tr>\n",
       "  </thead>\n",
       "  <tbody>\n",
       "    <tr>\n",
       "      <th>0</th>\n",
       "      <td>1</td>\n",
       "      <td>0</td>\n",
       "      <td>3</td>\n",
       "      <td>Braund, Mr. Owen Harris</td>\n",
       "      <td>male</td>\n",
       "      <td>22.0</td>\n",
       "      <td>1</td>\n",
       "      <td>0</td>\n",
       "      <td>A/5 21171</td>\n",
       "      <td>7.2500</td>\n",
       "      <td>NaN</td>\n",
       "      <td>S</td>\n",
       "    </tr>\n",
       "    <tr>\n",
       "      <th>1</th>\n",
       "      <td>2</td>\n",
       "      <td>1</td>\n",
       "      <td>1</td>\n",
       "      <td>Cumings, Mrs. John Bradley (Florence Briggs Th...</td>\n",
       "      <td>female</td>\n",
       "      <td>38.0</td>\n",
       "      <td>1</td>\n",
       "      <td>0</td>\n",
       "      <td>PC 17599</td>\n",
       "      <td>71.2833</td>\n",
       "      <td>C85</td>\n",
       "      <td>C</td>\n",
       "    </tr>\n",
       "    <tr>\n",
       "      <th>2</th>\n",
       "      <td>3</td>\n",
       "      <td>1</td>\n",
       "      <td>3</td>\n",
       "      <td>Heikkinen, Miss. Laina</td>\n",
       "      <td>female</td>\n",
       "      <td>26.0</td>\n",
       "      <td>0</td>\n",
       "      <td>0</td>\n",
       "      <td>STON/O2. 3101282</td>\n",
       "      <td>7.9250</td>\n",
       "      <td>NaN</td>\n",
       "      <td>S</td>\n",
       "    </tr>\n",
       "    <tr>\n",
       "      <th>3</th>\n",
       "      <td>4</td>\n",
       "      <td>1</td>\n",
       "      <td>1</td>\n",
       "      <td>Futrelle, Mrs. Jacques Heath (Lily May Peel)</td>\n",
       "      <td>female</td>\n",
       "      <td>35.0</td>\n",
       "      <td>1</td>\n",
       "      <td>0</td>\n",
       "      <td>113803</td>\n",
       "      <td>53.1000</td>\n",
       "      <td>C123</td>\n",
       "      <td>S</td>\n",
       "    </tr>\n",
       "    <tr>\n",
       "      <th>4</th>\n",
       "      <td>5</td>\n",
       "      <td>0</td>\n",
       "      <td>3</td>\n",
       "      <td>Allen, Mr. William Henry</td>\n",
       "      <td>male</td>\n",
       "      <td>35.0</td>\n",
       "      <td>0</td>\n",
       "      <td>0</td>\n",
       "      <td>373450</td>\n",
       "      <td>8.0500</td>\n",
       "      <td>NaN</td>\n",
       "      <td>S</td>\n",
       "    </tr>\n",
       "  </tbody>\n",
       "</table>\n",
       "</div>"
      ],
      "text/plain": [
       "   PassengerId  Survived  Pclass  \\\n",
       "0            1         0       3   \n",
       "1            2         1       1   \n",
       "2            3         1       3   \n",
       "3            4         1       1   \n",
       "4            5         0       3   \n",
       "\n",
       "                                                Name     Sex   Age  SibSp  \\\n",
       "0                            Braund, Mr. Owen Harris    male  22.0      1   \n",
       "1  Cumings, Mrs. John Bradley (Florence Briggs Th...  female  38.0      1   \n",
       "2                             Heikkinen, Miss. Laina  female  26.0      0   \n",
       "3       Futrelle, Mrs. Jacques Heath (Lily May Peel)  female  35.0      1   \n",
       "4                           Allen, Mr. William Henry    male  35.0      0   \n",
       "\n",
       "   Parch            Ticket     Fare Cabin Embarked  \n",
       "0      0         A/5 21171   7.2500   NaN        S  \n",
       "1      0          PC 17599  71.2833   C85        C  \n",
       "2      0  STON/O2. 3101282   7.9250   NaN        S  \n",
       "3      0            113803  53.1000  C123        S  \n",
       "4      0            373450   8.0500   NaN        S  "
      ]
     },
     "execution_count": 4,
     "metadata": {},
     "output_type": "execute_result"
    }
   ],
   "source": [
    "train.head()"
   ]
  },
  {
   "cell_type": "markdown",
   "id": "291165ff",
   "metadata": {},
   "source": [
    "- What are the size of dataset?"
   ]
  },
  {
   "cell_type": "code",
   "execution_count": 5,
   "id": "5a57bde2",
   "metadata": {},
   "outputs": [
    {
     "data": {
      "text/plain": [
       "(891, 12)"
      ]
     },
     "execution_count": 5,
     "metadata": {},
     "output_type": "execute_result"
    }
   ],
   "source": [
    "train.shape"
   ]
  },
  {
   "cell_type": "markdown",
   "id": "1ec3ed31",
   "metadata": {},
   "source": [
    "- What are the types of variables?"
   ]
  },
  {
   "cell_type": "code",
   "execution_count": 6,
   "id": "f71644ae",
   "metadata": {},
   "outputs": [
    {
     "data": {
      "text/plain": [
       "PassengerId      int64\n",
       "Survived         int64\n",
       "Pclass           int64\n",
       "Name            object\n",
       "Sex             object\n",
       "Age            float64\n",
       "SibSp            int64\n",
       "Parch            int64\n",
       "Ticket          object\n",
       "Fare           float64\n",
       "Cabin           object\n",
       "Embarked        object\n",
       "dtype: object"
      ]
     },
     "execution_count": 6,
     "metadata": {},
     "output_type": "execute_result"
    }
   ],
   "source": [
    "train.dtypes"
   ]
  },
  {
   "cell_type": "markdown",
   "id": "9476dcd3",
   "metadata": {},
   "source": [
    "- What columns have duplicated rows?"
   ]
  },
  {
   "cell_type": "code",
   "execution_count": 7,
   "id": "b647ab7e",
   "metadata": {},
   "outputs": [
    {
     "data": {
      "text/plain": [
       "PassengerId    0\n",
       "Survived       0\n",
       "Pclass         0\n",
       "Name           0\n",
       "Sex            0\n",
       "Age            0\n",
       "SibSp          0\n",
       "Parch          0\n",
       "Ticket         0\n",
       "Fare           0\n",
       "Cabin          0\n",
       "Embarked       0\n",
       "dtype: int64"
      ]
     },
     "execution_count": 7,
     "metadata": {},
     "output_type": "execute_result"
    }
   ],
   "source": [
    "train[train.duplicated].count()"
   ]
  },
  {
   "cell_type": "markdown",
   "id": "2c10113e",
   "metadata": {},
   "source": [
    "It was not identified duplicated rows."
   ]
  },
  {
   "cell_type": "markdown",
   "id": "0f639427",
   "metadata": {},
   "source": [
    "- What columns have null values?"
   ]
  },
  {
   "cell_type": "code",
   "execution_count": 8,
   "id": "e668aa76",
   "metadata": {},
   "outputs": [
    {
     "data": {
      "text/plain": [
       "True"
      ]
     },
     "execution_count": 8,
     "metadata": {},
     "output_type": "execute_result"
    }
   ],
   "source": [
    "train.isnull().values.any()"
   ]
  },
  {
   "cell_type": "code",
   "execution_count": 9,
   "id": "7614d4ef",
   "metadata": {},
   "outputs": [
    {
     "data": {
      "text/plain": [
       "PassengerId      0\n",
       "Survived         0\n",
       "Pclass           0\n",
       "Name             0\n",
       "Sex              0\n",
       "Age            177\n",
       "SibSp            0\n",
       "Parch            0\n",
       "Ticket           0\n",
       "Fare             0\n",
       "Cabin          687\n",
       "Embarked         2\n",
       "dtype: int64"
      ]
     },
     "execution_count": 9,
     "metadata": {},
     "output_type": "execute_result"
    }
   ],
   "source": [
    "#How many columns? \n",
    "train.isnull().sum()"
   ]
  },
  {
   "cell_type": "markdown",
   "id": "807fdd7a",
   "metadata": {},
   "source": [
    "- Analyse of numerical features"
   ]
  },
  {
   "cell_type": "code",
   "execution_count": 10,
   "id": "87abe160",
   "metadata": {},
   "outputs": [
    {
     "data": {
      "text/html": [
       "<div>\n",
       "<style scoped>\n",
       "    .dataframe tbody tr th:only-of-type {\n",
       "        vertical-align: middle;\n",
       "    }\n",
       "\n",
       "    .dataframe tbody tr th {\n",
       "        vertical-align: top;\n",
       "    }\n",
       "\n",
       "    .dataframe thead th {\n",
       "        text-align: right;\n",
       "    }\n",
       "</style>\n",
       "<table border=\"1\" class=\"dataframe\">\n",
       "  <thead>\n",
       "    <tr style=\"text-align: right;\">\n",
       "      <th></th>\n",
       "      <th>PassengerId</th>\n",
       "      <th>Survived</th>\n",
       "      <th>Pclass</th>\n",
       "      <th>Age</th>\n",
       "      <th>SibSp</th>\n",
       "      <th>Parch</th>\n",
       "      <th>Fare</th>\n",
       "    </tr>\n",
       "  </thead>\n",
       "  <tbody>\n",
       "    <tr>\n",
       "      <th>count</th>\n",
       "      <td>891.000000</td>\n",
       "      <td>891.000000</td>\n",
       "      <td>891.000000</td>\n",
       "      <td>714.000000</td>\n",
       "      <td>891.000000</td>\n",
       "      <td>891.000000</td>\n",
       "      <td>891.000000</td>\n",
       "    </tr>\n",
       "    <tr>\n",
       "      <th>mean</th>\n",
       "      <td>446.000000</td>\n",
       "      <td>0.383838</td>\n",
       "      <td>2.308642</td>\n",
       "      <td>29.699118</td>\n",
       "      <td>0.523008</td>\n",
       "      <td>0.381594</td>\n",
       "      <td>32.204208</td>\n",
       "    </tr>\n",
       "    <tr>\n",
       "      <th>std</th>\n",
       "      <td>257.353842</td>\n",
       "      <td>0.486592</td>\n",
       "      <td>0.836071</td>\n",
       "      <td>14.526497</td>\n",
       "      <td>1.102743</td>\n",
       "      <td>0.806057</td>\n",
       "      <td>49.693429</td>\n",
       "    </tr>\n",
       "    <tr>\n",
       "      <th>min</th>\n",
       "      <td>1.000000</td>\n",
       "      <td>0.000000</td>\n",
       "      <td>1.000000</td>\n",
       "      <td>0.420000</td>\n",
       "      <td>0.000000</td>\n",
       "      <td>0.000000</td>\n",
       "      <td>0.000000</td>\n",
       "    </tr>\n",
       "    <tr>\n",
       "      <th>25%</th>\n",
       "      <td>223.500000</td>\n",
       "      <td>0.000000</td>\n",
       "      <td>2.000000</td>\n",
       "      <td>20.125000</td>\n",
       "      <td>0.000000</td>\n",
       "      <td>0.000000</td>\n",
       "      <td>7.910400</td>\n",
       "    </tr>\n",
       "    <tr>\n",
       "      <th>50%</th>\n",
       "      <td>446.000000</td>\n",
       "      <td>0.000000</td>\n",
       "      <td>3.000000</td>\n",
       "      <td>28.000000</td>\n",
       "      <td>0.000000</td>\n",
       "      <td>0.000000</td>\n",
       "      <td>14.454200</td>\n",
       "    </tr>\n",
       "    <tr>\n",
       "      <th>75%</th>\n",
       "      <td>668.500000</td>\n",
       "      <td>1.000000</td>\n",
       "      <td>3.000000</td>\n",
       "      <td>38.000000</td>\n",
       "      <td>1.000000</td>\n",
       "      <td>0.000000</td>\n",
       "      <td>31.000000</td>\n",
       "    </tr>\n",
       "    <tr>\n",
       "      <th>max</th>\n",
       "      <td>891.000000</td>\n",
       "      <td>1.000000</td>\n",
       "      <td>3.000000</td>\n",
       "      <td>80.000000</td>\n",
       "      <td>8.000000</td>\n",
       "      <td>6.000000</td>\n",
       "      <td>512.329200</td>\n",
       "    </tr>\n",
       "  </tbody>\n",
       "</table>\n",
       "</div>"
      ],
      "text/plain": [
       "       PassengerId    Survived      Pclass         Age       SibSp  \\\n",
       "count   891.000000  891.000000  891.000000  714.000000  891.000000   \n",
       "mean    446.000000    0.383838    2.308642   29.699118    0.523008   \n",
       "std     257.353842    0.486592    0.836071   14.526497    1.102743   \n",
       "min       1.000000    0.000000    1.000000    0.420000    0.000000   \n",
       "25%     223.500000    0.000000    2.000000   20.125000    0.000000   \n",
       "50%     446.000000    0.000000    3.000000   28.000000    0.000000   \n",
       "75%     668.500000    1.000000    3.000000   38.000000    1.000000   \n",
       "max     891.000000    1.000000    3.000000   80.000000    8.000000   \n",
       "\n",
       "            Parch        Fare  \n",
       "count  891.000000  891.000000  \n",
       "mean     0.381594   32.204208  \n",
       "std      0.806057   49.693429  \n",
       "min      0.000000    0.000000  \n",
       "25%      0.000000    7.910400  \n",
       "50%      0.000000   14.454200  \n",
       "75%      0.000000   31.000000  \n",
       "max      6.000000  512.329200  "
      ]
     },
     "execution_count": 10,
     "metadata": {},
     "output_type": "execute_result"
    }
   ],
   "source": [
    "train.describe()"
   ]
  },
  {
   "cell_type": "markdown",
   "id": "2160a660",
   "metadata": {},
   "source": [
    "**Insights of numerical feature:**\n",
    "- PassengerId is a unique value that is from 1 to 891. it may be dropped from training dataset as it does not contribute to survival.\n",
    "- Survived has 2 values, 1 or 0, it's a target feature\n",
    "- Although Pclass is classified as a numerical variable, she is categorical because has only three categories (1,2,3).\n",
    "- Few elderly passengers, the most of them are younger because the distribuition of 75% has passengers with 38 years.\n",
    "- The most of passengers are alone since 75% of  SibSp and Parch are 1 and 0."
   ]
  },
  {
   "cell_type": "markdown",
   "id": "7f716c16",
   "metadata": {},
   "source": [
    "- Analyse of categorical features"
   ]
  },
  {
   "cell_type": "code",
   "execution_count": 11,
   "id": "e3536f8f",
   "metadata": {},
   "outputs": [
    {
     "data": {
      "text/html": [
       "<div>\n",
       "<style scoped>\n",
       "    .dataframe tbody tr th:only-of-type {\n",
       "        vertical-align: middle;\n",
       "    }\n",
       "\n",
       "    .dataframe tbody tr th {\n",
       "        vertical-align: top;\n",
       "    }\n",
       "\n",
       "    .dataframe thead th {\n",
       "        text-align: right;\n",
       "    }\n",
       "</style>\n",
       "<table border=\"1\" class=\"dataframe\">\n",
       "  <thead>\n",
       "    <tr style=\"text-align: right;\">\n",
       "      <th></th>\n",
       "      <th>Name</th>\n",
       "      <th>Sex</th>\n",
       "      <th>Ticket</th>\n",
       "      <th>Cabin</th>\n",
       "      <th>Embarked</th>\n",
       "    </tr>\n",
       "  </thead>\n",
       "  <tbody>\n",
       "    <tr>\n",
       "      <th>count</th>\n",
       "      <td>891</td>\n",
       "      <td>891</td>\n",
       "      <td>891</td>\n",
       "      <td>204</td>\n",
       "      <td>889</td>\n",
       "    </tr>\n",
       "    <tr>\n",
       "      <th>unique</th>\n",
       "      <td>891</td>\n",
       "      <td>2</td>\n",
       "      <td>681</td>\n",
       "      <td>147</td>\n",
       "      <td>3</td>\n",
       "    </tr>\n",
       "    <tr>\n",
       "      <th>top</th>\n",
       "      <td>Braund, Mr. Owen Harris</td>\n",
       "      <td>male</td>\n",
       "      <td>347082</td>\n",
       "      <td>B96 B98</td>\n",
       "      <td>S</td>\n",
       "    </tr>\n",
       "    <tr>\n",
       "      <th>freq</th>\n",
       "      <td>1</td>\n",
       "      <td>577</td>\n",
       "      <td>7</td>\n",
       "      <td>4</td>\n",
       "      <td>644</td>\n",
       "    </tr>\n",
       "  </tbody>\n",
       "</table>\n",
       "</div>"
      ],
      "text/plain": [
       "                           Name   Sex  Ticket    Cabin Embarked\n",
       "count                       891   891     891      204      889\n",
       "unique                      891     2     681      147        3\n",
       "top     Braund, Mr. Owen Harris  male  347082  B96 B98        S\n",
       "freq                          1   577       7        4      644"
      ]
     },
     "execution_count": 11,
     "metadata": {},
     "output_type": "execute_result"
    }
   ],
   "source": [
    "train.describe(include=['O'])"
   ]
  },
  {
   "cell_type": "markdown",
   "id": "ec46b7d4",
   "metadata": {},
   "source": [
    "**Insights of categorical feature:**\n",
    "- Name is a unique value, is relatively non-standard, may not contribute directly to survival, so maybe dropped.\n",
    "- Sex variable has two possibility : male and female with predominant male.\n",
    "- Embarked take three values with S the top.\n",
    "- Ticket and Cabine has duplicates values"
   ]
  },
  {
   "cell_type": "markdown",
   "id": "cf4197e1",
   "metadata": {},
   "source": [
    "**Target variable**"
   ]
  },
  {
   "cell_type": "code",
   "execution_count": 12,
   "id": "ae40a68a",
   "metadata": {},
   "outputs": [
    {
     "data": {
      "text/plain": [
       "0    62.0\n",
       "1    38.0\n",
       "Name: Survived, dtype: float64"
      ]
     },
     "execution_count": 12,
     "metadata": {},
     "output_type": "execute_result"
    }
   ],
   "source": [
    "fa = round(train['Survived'].value_counts(normalize=True)*100)\n",
    "fa"
   ]
  },
  {
   "cell_type": "markdown",
   "id": "61201fe9",
   "metadata": {},
   "source": [
    "-The percent of people don´t survived is higher, it seems to be unbalanced."
   ]
  },
  {
   "cell_type": "markdown",
   "id": "3754a2e0",
   "metadata": {},
   "source": [
    "**Pclass**"
   ]
  },
  {
   "cell_type": "markdown",
   "id": "e0db69ea",
   "metadata": {},
   "source": [
    "Univariate analysis of a categorical - Frequency table"
   ]
  },
  {
   "cell_type": "code",
   "execution_count": 13,
   "id": "e9209502",
   "metadata": {},
   "outputs": [
    {
     "name": "stdout",
     "output_type": "stream",
     "text": [
      "   Class  Absolute Frequency  Relative Frequency\n",
      "0      1                 216                24.0\n",
      "1      2                 184                21.0\n",
      "2      3                 491                55.0\n"
     ]
    }
   ],
   "source": [
    "#table\n",
    "fa = train['Pclass'].value_counts().sort_index()\n",
    "fr = round(fa/len(train['Pclass'])*100)\n",
    "tab = pd.DataFrame({\n",
    "    'Class': fa.index,\n",
    "    'Absolute Frequency': fa.values,\n",
    "    'Relative Frequency': fr.values\n",
    "})\n",
    "print(tab)"
   ]
  },
  {
   "cell_type": "markdown",
   "id": "9ff09961",
   "metadata": {},
   "source": [
    "-evaluation: there are more people from class 3 in the ship."
   ]
  },
  {
   "cell_type": "markdown",
   "id": "74514330",
   "metadata": {},
   "source": [
    "Bivariate - pclass x survived (target)"
   ]
  },
  {
   "cell_type": "code",
   "execution_count": 14,
   "id": "49839b68",
   "metadata": {},
   "outputs": [
    {
     "name": "stdout",
     "output_type": "stream",
     "text": [
      "Survived    0    1\n",
      "Pclass            \n",
      "1          80  136\n",
      "2          97   87\n",
      "3         372  119\n"
     ]
    }
   ],
   "source": [
    "tab1 = pd.crosstab(train['Pclass'],train['Survived'])\n",
    "print(tab1)"
   ]
  },
  {
   "cell_type": "code",
   "execution_count": 15,
   "id": "de55e257",
   "metadata": {},
   "outputs": [
    {
     "data": {
      "image/png": "[encoded data removed]",
      "text/plain": [
       "<Figure size 432x288 with 1 Axes>"
      ]
     },
     "metadata": {
      "needs_background": "light"
     },
     "output_type": "display_data"
    }
   ],
   "source": [
    "ax = tab1.plot(kind='bar',color=['red', 'green'])\n",
    "plt.xlabel('Pclass')\n",
    "plt.ylabel('Count')\n",
    "for p in ax.patches:\n",
    "    ax.annotate(str(p.get_height()), (p.get_x() + p.get_width() / 2., p.get_height()),\n",
    "                ha='center', va='center', xytext=(0, 5), textcoords='offset points')\n",
    "plt.show()"
   ]
  },
  {
   "cell_type": "markdown",
   "id": "ace8a043",
   "metadata": {},
   "source": [
    "evaluation:\n",
    "- according to the graph pclass=3 had most passegers, however most did not survived.\n",
    "- the upper-class passengers (pclass=1) were more likely to have survived."
   ]
  },
  {
   "cell_type": "code",
   "execution_count": 16,
   "id": "be4088e4",
   "metadata": {},
   "outputs": [
    {
     "name": "stdout",
     "output_type": "stream",
     "text": [
      "Estatistic: 102.88898875696056\n",
      "P: 4.549251711298793e-23\n",
      "Degrees of freedom: 2\n"
     ]
    }
   ],
   "source": [
    "# Chi-square test\n",
    "estat, p,lib,_= chi2_contingency(tab1)\n",
    "# Imprimindo os resultados\n",
    "print(f\"Estatistic: {estat}\")\n",
    "print(f\"P: {p}\")\n",
    "print(f\"Degrees of freedom: {lib}\")"
   ]
  },
  {
   "cell_type": "markdown",
   "id": "35abccbc",
   "metadata": {},
   "source": [
    "evaluation:\n",
    "- according to the graph, it was possible to observe a very marked disparity in the proportions, which may be an indication of association.\n",
    "- To evaluate better this association was applied the test of chi-square.\n",
    "- As the value of was lower than 0.05, extremely low, it can be concluded that there is a significant association between the categorical variables represented.\n",
    "- Therefore, this feature will be kept."
   ]
  },
  {
   "cell_type": "markdown",
   "id": "93c548dd",
   "metadata": {},
   "source": [
    "**Age**"
   ]
  },
  {
   "cell_type": "markdown",
   "id": "5aee5cbd",
   "metadata": {},
   "source": [
    "Univariate analysis"
   ]
  },
  {
   "cell_type": "code",
   "execution_count": 17,
   "id": "51d7f609",
   "metadata": {},
   "outputs": [
    {
     "data": {
      "text/plain": [
       "False    714\n",
       "True     177\n",
       "Name: Age, dtype: int64"
      ]
     },
     "execution_count": 17,
     "metadata": {},
     "output_type": "execute_result"
    }
   ],
   "source": [
    "#Quantity of null values\n",
    "train['Age'].isnull().value_counts()"
   ]
  },
  {
   "cell_type": "code",
   "execution_count": 18,
   "id": "f8e5f789",
   "metadata": {},
   "outputs": [
    {
     "data": {
      "text/plain": [
       "(array([ 54.,  46., 177., 169., 118.,  70.,  45.,  24.,   9.,   2.]),\n",
       " array([ 0.42 ,  8.378, 16.336, 24.294, 32.252, 40.21 , 48.168, 56.126,\n",
       "        64.084, 72.042, 80.   ]),\n",
       " <BarContainer object of 10 artists>)"
      ]
     },
     "execution_count": 18,
     "metadata": {},
     "output_type": "execute_result"
    },
    {
     "data": {
      "image/png": "[encoded data removed]",
      "text/plain": [
       "<Figure size 432x288 with 1 Axes>"
      ]
     },
     "metadata": {
      "needs_background": "light"
     },
     "output_type": "display_data"
    }
   ],
   "source": [
    "#Histogram\n",
    "plt.hist(train['Age'])"
   ]
  },
  {
   "cell_type": "code",
   "execution_count": 19,
   "id": "1212f9de",
   "metadata": {},
   "outputs": [
    {
     "data": {
      "text/plain": [
       "{'whiskers': [<matplotlib.lines.Line2D at 0x2733ef80280>,\n",
       "  <matplotlib.lines.Line2D at 0x2733ef80550>],\n",
       " 'caps': [<matplotlib.lines.Line2D at 0x2733ef808e0>,\n",
       "  <matplotlib.lines.Line2D at 0x2733ef80c70>],\n",
       " 'boxes': [<matplotlib.lines.Line2D at 0x2733ef6edf0>],\n",
       " 'medians': [<matplotlib.lines.Line2D at 0x2733ef8c040>],\n",
       " 'fliers': [<matplotlib.lines.Line2D at 0x2733ef8c3d0>],\n",
       " 'means': []}"
      ]
     },
     "execution_count": 19,
     "metadata": {},
     "output_type": "execute_result"
    },
    {
     "data": {
      "image/png": "[encoded data removed]",
      "text/plain": [
       "<Figure size 432x288 with 1 Axes>"
      ]
     },
     "metadata": {
      "needs_background": "light"
     },
     "output_type": "display_data"
    }
   ],
   "source": [
    "#Boxplot\n",
    "b1 = [i for i in train['Age'] if not np.isnan(i)]\n",
    "plt.boxplot(b1)"
   ]
  },
  {
   "cell_type": "code",
   "execution_count": 20,
   "id": "fe54fe1c",
   "metadata": {},
   "outputs": [
    {
     "data": {
      "text/plain": [
       "11"
      ]
     },
     "execution_count": 20,
     "metadata": {},
     "output_type": "execute_result"
    }
   ],
   "source": [
    "#Quantity of values > 65\n",
    "b2 = [i for i in train['Age'] if not np.isnan(i) and i >= 65 ]\n",
    "len(b2)"
   ]
  },
  {
   "cell_type": "code",
   "execution_count": 21,
   "id": "9d503634",
   "metadata": {},
   "outputs": [
    {
     "data": {
      "text/plain": [
       "28.0"
      ]
     },
     "execution_count": 21,
     "metadata": {},
     "output_type": "execute_result"
    }
   ],
   "source": [
    "#Median of age\n",
    "median_ = train['Age'].median()\n",
    "median_"
   ]
  },
  {
   "cell_type": "code",
   "execution_count": 22,
   "id": "e65f8a2c",
   "metadata": {},
   "outputs": [
    {
     "data": {
      "text/plain": [
       "29.69911764705882"
      ]
     },
     "execution_count": 22,
     "metadata": {},
     "output_type": "execute_result"
    }
   ],
   "source": [
    "#Mean \n",
    "mean_ = train['Age'].mean()\n",
    "mean_"
   ]
  },
  {
   "cell_type": "markdown",
   "id": "af6d686f",
   "metadata": {},
   "source": [
    "- Null values - The analyse unidimensional of age show that we have a huge number of null values, it's a question that must be solved. As we have a large number of null, the best approach is to replace this values. \n",
    "- Histogram -  Look at  distribution on histogram it is noticed  that the most of  passengers are younger. Children represent a small proportion.The distribution might follow a normal curve. \n",
    "- Boxplot - It seems we have outliers in the age variable, the number of people with age >65 is only 11. \n",
    "\n",
    "ANALYSIS: If will be keep this variable in the study,it is important to replace the null values. One approach to use is change the null values for either median or mean. However, as we have possible outiliers mean can be influenced, so one solution could be change null values for the median."
   ]
  },
  {
   "cell_type": "markdown",
   "id": "cafa73d5",
   "metadata": {},
   "source": [
    "Bivariate "
   ]
  },
  {
   "cell_type": "code",
   "execution_count": 25,
   "id": "79d340bc",
   "metadata": {},
   "outputs": [],
   "source": [
    "surv = train[train['Survived'] == 1]['Age'].dropna().tolist()\n",
    "nosurv = train[train['Survived'] == 0]['Age'].dropna().tolist()"
   ]
  },
  {
   "cell_type": "code",
   "execution_count": 26,
   "id": "e1363298",
   "metadata": {},
   "outputs": [
    {
     "data": {
      "image/png": "[encoded data removed]",
      "text/plain": [
       "<Figure size 432x288 with 1 Axes>"
      ]
     },
     "metadata": {
      "needs_background": "light"
     },
     "output_type": "display_data"
    }
   ],
   "source": [
    "plt.boxplot([surv, nosurv], labels=['Survived', 'Non Survived'])\n",
    "plt.xlabel('Category')\n",
    "plt.ylabel('Age')\n",
    "plt.title('Boxplot for Category')\n",
    "plt.show()"
   ]
  },
  {
   "cell_type": "code",
   "execution_count": 27,
   "id": "ed17118e",
   "metadata": {},
   "outputs": [
    {
     "name": "stderr",
     "output_type": "stream",
     "text": [
      "C:\\Users\\amand\\anaconda3\\lib\\site-packages\\seaborn\\axisgrid.py:703: FutureWarning: iteritems is deprecated and will be removed in a future version. Use .items instead.\n",
      "  plot_args = [v for k, v in plot_data.iteritems()]\n",
      "C:\\Users\\amand\\anaconda3\\lib\\site-packages\\seaborn\\axisgrid.py:703: FutureWarning: iteritems is deprecated and will be removed in a future version. Use .items instead.\n",
      "  plot_args = [v for k, v in plot_data.iteritems()]\n"
     ]
    },
    {
     "data": {
      "text/plain": [
       "<seaborn.axisgrid.FacetGrid at 0x2733e5e1c70>"
      ]
     },
     "execution_count": 27,
     "metadata": {},
     "output_type": "execute_result"
    },
    {
     "data": {
      "image/png": "[encoded data removed]",
      "text/plain": [
       "<Figure size 432x216 with 2 Axes>"
      ]
     },
     "metadata": {
      "needs_background": "light"
     },
     "output_type": "display_data"
    }
   ],
   "source": [
    "#histogram\n",
    "g = sns.FacetGrid(train, col='Survived')\n",
    "g.map(plt.hist, 'Age', bins=20)"
   ]
  },
  {
   "cell_type": "markdown",
   "id": "1d16e724",
   "metadata": {},
   "source": [
    "-According with bthe graphs:\n",
    "-oldest passagers survived(age=80);\n",
    "-the quantity of non-survived is high than suvived;\n",
    "-Children have a high rate of survived;\n",
    "-Its possible observe a correlation between this variable and the rate of suvived since we have a displacement trend for the survivor rate"
   ]
  },
  {
   "cell_type": "markdown",
   "id": "031f94c8",
   "metadata": {},
   "source": [
    "**SibSp, Parch**"
   ]
  },
  {
   "cell_type": "code",
   "execution_count": 28,
   "id": "0daf4edc",
   "metadata": {},
   "outputs": [
    {
     "data": {
      "text/plain": [
       "array([1, 0, 3, 4, 2, 5, 8], dtype=int64)"
      ]
     },
     "execution_count": 28,
     "metadata": {},
     "output_type": "execute_result"
    }
   ],
   "source": [
    "train['SibSp'].unique()"
   ]
  },
  {
   "cell_type": "code",
   "execution_count": 29,
   "id": "f5e03ac0",
   "metadata": {},
   "outputs": [
    {
     "data": {
      "text/plain": [
       "array([0, 1, 2, 5, 3, 4, 6], dtype=int64)"
      ]
     },
     "execution_count": 29,
     "metadata": {},
     "output_type": "execute_result"
    }
   ],
   "source": [
    "train['Parch'].unique()"
   ]
  },
  {
   "cell_type": "code",
   "execution_count": 30,
   "id": "1cb34e52",
   "metadata": {},
   "outputs": [
    {
     "name": "stdout",
     "output_type": "stream",
     "text": [
      "Survived    0    1\n",
      "SibSp             \n",
      "0         398  210\n",
      "1          97  112\n",
      "2          15   13\n",
      "3          12    4\n",
      "4          15    3\n",
      "5           5    0\n",
      "8           7    0\n"
     ]
    }
   ],
   "source": [
    "tab2 = pd.crosstab(train['SibSp'],train['Survived'])\n",
    "print(tab2)"
   ]
  },
  {
   "cell_type": "code",
   "execution_count": 31,
   "id": "ab4b1b61",
   "metadata": {},
   "outputs": [
    {
     "name": "stdout",
     "output_type": "stream",
     "text": [
      "Survived    0    1\n",
      "Parch             \n",
      "0         445  233\n",
      "1          53   65\n",
      "2          40   40\n",
      "3           2    3\n",
      "4           4    0\n",
      "5           4    1\n",
      "6           1    0\n"
     ]
    }
   ],
   "source": [
    "tab3 = pd.crosstab(train['Parch'],train['Survived'])\n",
    "print(tab3)"
   ]
  },
  {
   "cell_type": "markdown",
   "id": "5234152c",
   "metadata": {},
   "source": [
    "Evaluation - These features have a zero correlation for certains values. The result represent the most of  people there,\n",
    "don't have family associated. So, both variables may be combined."
   ]
  },
  {
   "cell_type": "markdown",
   "id": "a328cfc0",
   "metadata": {},
   "source": [
    "**Fare**"
   ]
  },
  {
   "cell_type": "code",
   "execution_count": 32,
   "id": "f6649177",
   "metadata": {},
   "outputs": [
    {
     "data": {
      "text/plain": [
       "(array([732., 106.,  31.,   2.,  11.,   6.,   0.,   0.,   0.,   3.]),\n",
       " array([  0.     ,  51.23292, 102.46584, 153.69876, 204.93168, 256.1646 ,\n",
       "        307.39752, 358.63044, 409.86336, 461.09628, 512.3292 ]),\n",
       " <BarContainer object of 10 artists>)"
      ]
     },
     "execution_count": 32,
     "metadata": {},
     "output_type": "execute_result"
    },
    {
     "data": {
      "image/png": "[encoded data removed]",
      "text/plain": [
       "<Figure size 432x288 with 1 Axes>"
      ]
     },
     "metadata": {
      "needs_background": "light"
     },
     "output_type": "display_data"
    }
   ],
   "source": [
    "#Histogram\n",
    "plt.hist(train['Fare'])"
   ]
  },
  {
   "cell_type": "markdown",
   "id": "0f70c047",
   "metadata": {},
   "source": [
    "evaluation:\n",
    "- the most of people payed <100 dol;\n",
    "- few people payed 500 dol;"
   ]
  },
  {
   "cell_type": "code",
   "execution_count": 34,
   "id": "af39d06c",
   "metadata": {},
   "outputs": [
    {
     "name": "stderr",
     "output_type": "stream",
     "text": [
      "C:\\Users\\amand\\anaconda3\\lib\\site-packages\\seaborn\\axisgrid.py:703: FutureWarning: iteritems is deprecated and will be removed in a future version. Use .items instead.\n",
      "  plot_args = [v for k, v in plot_data.iteritems()]\n",
      "C:\\Users\\amand\\anaconda3\\lib\\site-packages\\seaborn\\axisgrid.py:703: FutureWarning: iteritems is deprecated and will be removed in a future version. Use .items instead.\n",
      "  plot_args = [v for k, v in plot_data.iteritems()]\n"
     ]
    },
    {
     "data": {
      "text/plain": [
       "<seaborn.axisgrid.FacetGrid at 0x2734284abe0>"
      ]
     },
     "execution_count": 34,
     "metadata": {},
     "output_type": "execute_result"
    },
    {
     "data": {
      "image/png": "[encoded data removed]",
      "text/plain": [
       "<Figure size 432x216 with 2 Axes>"
      ]
     },
     "metadata": {
      "needs_background": "light"
     },
     "output_type": "display_data"
    }
   ],
   "source": [
    "#histogram for target group\n",
    "g = sns.FacetGrid(train, col='Survived')\n",
    "g.map(plt.hist, 'Fare', bins=20)"
   ]
  },
  {
   "cell_type": "markdown",
   "id": "66d0f8e2",
   "metadata": {},
   "source": [
    "evaluation:\n",
    "- people who payed more survived more\n",
    "- There is a correlation between two variables"
   ]
  },
  {
   "cell_type": "markdown",
   "id": "ef0e4097",
   "metadata": {},
   "source": [
    "**Embarked**"
   ]
  },
  {
   "cell_type": "markdown",
   "id": "8f3a584f",
   "metadata": {},
   "source": [
    "train['Embarked'].value_counts()"
   ]
  },
  {
   "cell_type": "code",
   "execution_count": null,
   "id": "7d8c7351",
   "metadata": {},
   "outputs": [],
   "source": [
    "#the most of th embarked in S = Southampton"
   ]
  },
  {
   "cell_type": "code",
   "execution_count": 36,
   "id": "3fb90a81",
   "metadata": {},
   "outputs": [
    {
     "name": "stdout",
     "output_type": "stream",
     "text": [
      "Survived    0    1\n",
      "Embarked          \n",
      "C          75   93\n",
      "Q          47   30\n",
      "S         427  217\n"
     ]
    }
   ],
   "source": [
    "tab4 = pd.crosstab(train['Embarked'],train['Survived'])\n",
    "print(tab4)"
   ]
  },
  {
   "cell_type": "code",
   "execution_count": 37,
   "id": "09f0f8ab",
   "metadata": {},
   "outputs": [
    {
     "data": {
      "image/png": "[encoded data removed]",
      "text/plain": [
       "<Figure size 432x288 with 1 Axes>"
      ]
     },
     "metadata": {
      "needs_background": "light"
     },
     "output_type": "display_data"
    }
   ],
   "source": [
    "ax = tab4.plot(kind='bar',color=['black', 'green'])\n",
    "plt.xlabel('Pclass')\n",
    "plt.ylabel('Count')\n",
    "for p in ax.patches:\n",
    "    ax.annotate(str(p.get_height()), (p.get_x() + p.get_width() / 2., p.get_height()),\n",
    "                ha='center', va='center', xytext=(0, 5), textcoords='offset points')\n",
    "plt.show()"
   ]
  },
  {
   "cell_type": "code",
   "execution_count": 38,
   "id": "50926961",
   "metadata": {},
   "outputs": [],
   "source": [
    "#the most of survived people came from S = Southampton,this fact show that there is one prossible correlation between variables. "
   ]
  },
  {
   "cell_type": "markdown",
   "id": "cbb188f5",
   "metadata": {},
   "source": [
    "**Sex**"
   ]
  },
  {
   "cell_type": "code",
   "execution_count": 42,
   "id": "1cea9379",
   "metadata": {},
   "outputs": [
    {
     "name": "stdout",
     "output_type": "stream",
     "text": [
      "Survived    0    1\n",
      "Sex               \n",
      "female     81  233\n",
      "male      468  109\n"
     ]
    }
   ],
   "source": [
    "\n",
    "tab5 = pd.crosstab(train['Sex'],train['Survived'])\n",
    "print(tab5)"
   ]
  },
  {
   "cell_type": "code",
   "execution_count": 44,
   "id": "67f314b1",
   "metadata": {},
   "outputs": [
    {
     "data": {
      "image/png": "[encoded data removed]",
      "text/plain": [
       "<Figure size 432x288 with 1 Axes>"
      ]
     },
     "metadata": {
      "needs_background": "light"
     },
     "output_type": "display_data"
    }
   ],
   "source": [
    "ax = tab5.plot(kind='bar',color=['pink', 'blue'])\n",
    "plt.xlabel('Pclass')\n",
    "plt.ylabel('Count')\n",
    "for p in ax.patches:\n",
    "    ax.annotate(str(p.get_height()), (p.get_x() + p.get_width() / 2., p.get_height()),\n",
    "                ha='center', va='center', xytext=(0, 5), textcoords='offset points')\n",
    "plt.show()"
   ]
  },
  {
   "cell_type": "code",
   "execution_count": 45,
   "id": "101b94ef",
   "metadata": {},
   "outputs": [],
   "source": [
    "#the most survived people are female and the most non-survived are male"
   ]
  },
  {
   "cell_type": "markdown",
   "id": "9b2758ff",
   "metadata": {},
   "source": [
    "**Cabin**"
   ]
  },
  {
   "cell_type": "code",
   "execution_count": 55,
   "id": "14d9876f",
   "metadata": {},
   "outputs": [
    {
     "data": {
      "text/plain": [
       "count         204\n",
       "unique        147\n",
       "top       B96 B98\n",
       "freq            4\n",
       "Name: Cabin, dtype: object"
      ]
     },
     "execution_count": 55,
     "metadata": {},
     "output_type": "execute_result"
    }
   ],
   "source": [
    "train['Cabin'].describe(include=['O'])"
   ]
  },
  {
   "cell_type": "code",
   "execution_count": 56,
   "id": "2ff87a35",
   "metadata": {},
   "outputs": [],
   "source": [
    "#As the number of count is higher than the unique, people could be dividing the cabins \n",
    "#As the number of na is high, this variable may be dropped"
   ]
  },
  {
   "cell_type": "code",
   "execution_count": null,
   "id": "402f9ae8",
   "metadata": {},
   "outputs": [],
   "source": [
    "**Ticket**"
   ]
  },
  {
   "cell_type": "code",
   "execution_count": 58,
   "id": "3e6690b2",
   "metadata": {},
   "outputs": [
    {
     "data": {
      "text/plain": [
       "count        891\n",
       "unique       681\n",
       "top       347082\n",
       "freq           7\n",
       "Name: Ticket, dtype: object"
      ]
     },
     "execution_count": 58,
     "metadata": {},
     "output_type": "execute_result"
    }
   ],
   "source": [
    "train['Ticket'].describe(include=['O'])"
   ]
  },
  {
   "cell_type": "code",
   "execution_count": null,
   "id": "077af554",
   "metadata": {},
   "outputs": [],
   "source": [
    "#As the number of count is higher than the unique, people could be dividing tickets;\n",
    "#It seems that it doesn't have correlation with target variable"
   ]
  },
  {
   "cell_type": "markdown",
   "id": "c93f8e5a",
   "metadata": {},
   "source": [
    "**Correlation among variables**"
   ]
  },
  {
   "cell_type": "code",
   "execution_count": 60,
   "id": "c5d6d8ea",
   "metadata": {},
   "outputs": [
    {
     "name": "stderr",
     "output_type": "stream",
     "text": [
      "C:\\Users\\amand\\AppData\\Local\\Temp/ipykernel_2556/398757099.py:2: FutureWarning: The default value of numeric_only in DataFrame.corr is deprecated. In a future version, it will default to False. Select only valid columns or specify the value of numeric_only to silence this warning.\n",
      "  sns.heatmap(train.corr(),cmap='Blues',annot=True)\n"
     ]
    },
    {
     "data": {
      "text/plain": [
       "<AxesSubplot:>"
      ]
     },
     "execution_count": 60,
     "metadata": {},
     "output_type": "execute_result"
    },
    {
     "data": {
      "image/png": "[encoded data removed]",
      "text/plain": [
       "<Figure size 720x720 with 2 Axes>"
      ]
     },
     "metadata": {
      "needs_background": "light"
     },
     "output_type": "display_data"
    }
   ],
   "source": [
    "plt.figure(figsize= (10,10))\n",
    "sns.heatmap(train.corr(),cmap='Blues',annot=True)"
   ]
  },
  {
   "cell_type": "markdown",
   "id": "7319eb55",
   "metadata": {},
   "source": [
    "As show the graph above:\n",
    "- The is a strong correlation between Parch and SibSp.To avoid multicolinearty, we should remove one or combine them.\n",
    "- The is a  correlation among Parch, SibSp,Fare .To avoid multicolinearty, we should tranform them.\n",
    "- Survived has a good correlation with fare"
   ]
  },
  {
   "cell_type": "markdown",
   "id": "46c62b20",
   "metadata": {},
   "source": [
    "# 3. Data Wrangling"
   ]
  },
  {
   "cell_type": "markdown",
   "id": "09dab30e",
   "metadata": {},
   "source": [
    "**Correcting - Droping features**"
   ]
  },
  {
   "cell_type": "markdown",
   "id": "4a3b45e8",
   "metadata": {},
   "source": [
    "- Cabine - high number of null values\n",
    "- Ticket - It seems that it doesn't have correlation with target variable\n",
    "- PassengerId - It seems that it doesn't have correlation with target variable"
   ]
  },
  {
   "cell_type": "code",
   "execution_count": 62,
   "id": "6262e6ce",
   "metadata": {},
   "outputs": [],
   "source": [
    "train1 = train.drop(['Ticket','Cabin','PassengerId'],axis=1)\n",
    "test1 = test.drop(['Ticket','Cabin','PassengerId'],axis=1)"
   ]
  },
  {
   "cell_type": "markdown",
   "id": "23f9066e",
   "metadata": {},
   "source": [
    "**Feature engineering - Name**"
   ]
  },
  {
   "cell_type": "code",
   "execution_count": 64,
   "id": "510a57e8",
   "metadata": {},
   "outputs": [
    {
     "data": {
      "text/plain": [
       "0                                Braund, Mr. Owen Harris\n",
       "1      Cumings, Mrs. John Bradley (Florence Briggs Th...\n",
       "2                                 Heikkinen, Miss. Laina\n",
       "3           Futrelle, Mrs. Jacques Heath (Lily May Peel)\n",
       "4                               Allen, Mr. William Henry\n",
       "                             ...                        \n",
       "886                                Montvila, Rev. Juozas\n",
       "887                         Graham, Miss. Margaret Edith\n",
       "888             Johnston, Miss. Catherine Helen \"Carrie\"\n",
       "889                                Behr, Mr. Karl Howell\n",
       "890                                  Dooley, Mr. Patrick\n",
       "Name: Name, Length: 891, dtype: object"
      ]
     },
     "execution_count": 64,
     "metadata": {},
     "output_type": "execute_result"
    }
   ],
   "source": [
    "train1['Name']"
   ]
  },
  {
   "cell_type": "markdown",
   "id": "0250d642",
   "metadata": {},
   "source": [
    "As show above, each name has a title, which could be linked with the degree of importance.\n",
    "It will be use regular expressions to extract that. "
   ]
  },
  {
   "cell_type": "code",
   "execution_count": null,
   "id": "9a32d2c1",
   "metadata": {},
   "outputs": [],
   "source": []
  }
 ],
 "metadata": {
  "kernelspec": {
   "display_name": "Python 3 (ipykernel)",
   "language": "python",
   "name": "python3"
  },
  "language_info": {
   "codemirror_mode": {
    "name": "ipython",
    "version": 3
   },
   "file_extension": ".py",
   "mimetype": "text/x-python",
   "name": "python",
   "nbconvert_exporter": "python",
   "pygments_lexer": "ipython3",
   "version": "3.9.7"
  }
 },
 "nbformat": 4,
 "nbformat_minor": 5
}
